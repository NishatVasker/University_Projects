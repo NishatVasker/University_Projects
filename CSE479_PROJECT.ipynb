{
  "nbformat": 4,
  "nbformat_minor": 0,
  "metadata": {
    "colab": {
      "provenance": [],
      "authorship_tag": "ABX9TyMVonLNkRm9G3/9QBx3oomZ",
      "include_colab_link": true
    },
    "kernelspec": {
      "name": "python3",
      "display_name": "Python 3"
    },
    "language_info": {
      "name": "python"
    }
  },
  "cells": [
    {
      "cell_type": "markdown",
      "metadata": {
        "id": "view-in-github",
        "colab_type": "text"
      },
      "source": [
        "<a href=\"https://colab.research.google.com/github/NishatVasker/University_Projects/blob/master/CSE479_PROJECT.ipynb\" target=\"_parent\"><img src=\"https://colab.research.google.com/assets/colab-badge.svg\" alt=\"Open In Colab\"/></a>"
      ]
    },
    {
      "cell_type": "code",
      "source": [
        "# Install the required libraries\n",
        "!pip install requests\n",
        "!pip install beautifulsoup4\n",
        "\n",
        "# Import the necessary libraries\n",
        "import requests\n",
        "from bs4 import BeautifulSoup\n",
        "\n",
        "# URL of the page you want to scrape\n",
        "url = \"https://scholar.google.com/citations?view_op=list_works&hl=en&hl=en&user=QqOSakMAAAAJ\"\n",
        "\n",
        "# Send an HTTP GET request to the URL\n",
        "response = requests.get(url)\n",
        "\n",
        "# Check if the request was successful (status code 200)\n",
        "if response.status_code == 200:\n",
        "    # Parse the HTML content of the page\n",
        "    soup = BeautifulSoup(response.text, \"html.parser\")\n",
        "\n",
        "    # Here, you can use BeautifulSoup to extract the data you need from the page\n",
        "    # For example, to find and print the title of the page:\n",
        "    page_title = soup.title\n",
        "    print(\"Page Title:\", page_title.text)\n",
        "\n",
        "    # You can continue to navigate the HTML structure and extract the specific data you want.\n",
        "\n",
        "else:\n",
        "    print(\"Failed to retrieve the page. Status code:\", response.status_code)\n"
      ],
      "metadata": {
        "colab": {
          "base_uri": "https://localhost:8080/"
        },
        "id": "6FTPJFAsyDaT",
        "outputId": "62385c3f-0709-476d-9a4b-d7b5a89cd963"
      },
      "execution_count": 2,
      "outputs": [
        {
          "output_type": "stream",
          "name": "stdout",
          "text": [
            "Requirement already satisfied: requests in /usr/local/lib/python3.10/dist-packages (2.31.0)\n",
            "Requirement already satisfied: charset-normalizer<4,>=2 in /usr/local/lib/python3.10/dist-packages (from requests) (3.3.0)\n",
            "Requirement already satisfied: idna<4,>=2.5 in /usr/local/lib/python3.10/dist-packages (from requests) (3.4)\n",
            "Requirement already satisfied: urllib3<3,>=1.21.1 in /usr/local/lib/python3.10/dist-packages (from requests) (2.0.7)\n",
            "Requirement already satisfied: certifi>=2017.4.17 in /usr/local/lib/python3.10/dist-packages (from requests) (2023.7.22)\n",
            "Requirement already satisfied: beautifulsoup4 in /usr/local/lib/python3.10/dist-packages (4.11.2)\n",
            "Requirement already satisfied: soupsieve>1.2 in /usr/local/lib/python3.10/dist-packages (from beautifulsoup4) (2.5)\n",
            "Failed to retrieve the page. Status code: 429\n"
          ]
        }
      ]
    },
    {
      "cell_type": "code",
      "source": [
        "# Import the necessary libraries\n",
        "import requests\n",
        "from bs4 import BeautifulSoup\n",
        "import time\n",
        "\n",
        "# URL of the page you want to scrape\n",
        "url = \"https://scholar.google.com/citations?view_op=list_works&hl=en&hl=en&user=QqOSakMAAAAJ\"\n",
        "\n",
        "# Set the user-agent header to mimic a web browser\n",
        "headers = {\n",
        "    'User-Agent': 'Mozilla/5.0 (Windows NT 10.0; Win64; x64) AppleWebKit/537.36 (KHTML, like Gecko) Chrome/58.0.3029.110 Safari/537.36'\n",
        "}\n",
        "\n",
        "# Function to fetch and parse the page\n",
        "def fetch_and_parse_url(url):\n",
        "    # Add a delay of 5 seconds before making the request\n",
        "    time.sleep(5)\n",
        "\n",
        "    # Send an HTTP GET request to the URL with the user-agent header\n",
        "    response = requests.get(url, headers=headers)\n",
        "\n",
        "    # Check if the request was successful (status code 200)\n",
        "    if response.status_code == 200:\n",
        "        # Parse the HTML content of the page\n",
        "        soup = BeautifulSoup(response.text, \"html.parser\")\n",
        "        return soup\n",
        "    else:\n",
        "        print(\"Failed to retrieve the page. Status code:\", response.status_code)\n",
        "        return None\n",
        "\n",
        "# Fetch and parse the URL\n",
        "soup = fetch_and_parse_url(url)\n",
        "\n",
        "if soup:\n",
        "    # Here, you can use BeautifulSoup to extract the data you need from the page\n",
        "    # For example, to find and print the title of the page:\n",
        "    page_title = soup.title\n",
        "    print(\"Page Title:\", page_title.text)\n",
        "\n",
        "    # You can continue to navigate the HTML structure and extract the specific data you want.\n",
        "else:\n",
        "    print(\"Failed to retrieve the page.\")\n"
      ],
      "metadata": {
        "colab": {
          "base_uri": "https://localhost:8080/"
        },
        "id": "m4f_UO3pyO0t",
        "outputId": "56d59635-e6a5-4ac8-a996-f342e337835e"
      },
      "execution_count": 4,
      "outputs": [
        {
          "output_type": "stream",
          "name": "stdout",
          "text": [
            "Page Title: ‪Nishat Vasker‬ - ‪Google Scholar‬\n"
          ]
        }
      ]
    },
    {
      "cell_type": "code",
      "source": [
        "# Import the necessary libraries\n",
        "import requests\n",
        "from bs4 import BeautifulSoup\n",
        "import time\n",
        "\n",
        "# URL of the page you want to scrape\n",
        "url = \"https://scholar.google.com/citations?view_op=list_works&hl=en&hl=en&user=QqOSakMAAAAJ\"\n",
        "\n",
        "# Set the user-agent header to mimic a web browser\n",
        "headers = {\n",
        "    'User-Agent': 'Mozilla/5.0 (Windows NT 10.0; Win64; x64) AppleWebKit/537.36 (KHTML, like Gecko) Chrome/58.0.3029.110 Safari/537.36'\n",
        "}\n",
        "\n",
        "# Function to fetch and parse the page\n",
        "def fetch_and_parse_url(url):\n",
        "    # Add a delay of 5 seconds before making the request\n",
        "    time.sleep(5)\n",
        "\n",
        "    # Send an HTTP GET request to the URL with the user-agent header\n",
        "    response = requests.get(url, headers=headers)\n",
        "\n",
        "    # Check if the request was successful (status code 200)\n",
        "    if response.status_code == 200:\n",
        "        # Parse the HTML content of the page\n",
        "        soup = BeautifulSoup(response.text, \"html.parser\")\n",
        "        return soup\n",
        "    else:\n",
        "        print(\"Failed to retrieve the page. Status code:\", response.status_code)\n",
        "        return None\n",
        "\n",
        "# Fetch and parse the URL\n",
        "soup = fetch_and_parse_url(url)\n",
        "\n",
        "if soup:\n",
        "    # Find the HTML element that contains the number of publications\n",
        "    publication_count_element = soup.find(\"div\", {\"id\": \"gsc_art\"}).find(\"td\")\n",
        "\n",
        "    if publication_count_element:\n",
        "        # Extract the publication count\n",
        "        publications = publication_count_element.text.strip()\n",
        "        print(\"Number of Publications:\", publications)\n",
        "    else:\n",
        "        print(\"Publication count not found on the page.\")\n",
        "else:\n",
        "    print(\"Failed to retrieve the page.\")\n"
      ],
      "metadata": {
        "colab": {
          "base_uri": "https://localhost:8080/"
        },
        "id": "bDs1CbMpypy9",
        "outputId": "9e3f58d5-bfcc-4d86-b49a-33fc1a3b30b3"
      },
      "execution_count": 6,
      "outputs": [
        {
          "output_type": "stream",
          "name": "stdout",
          "text": [
            "Number of Publications: Deep Learning-assisted Fracture Diagnosis: Real-time Femur Fracture Diagnosis and CategorizationN Vasker, SN Haider, M Hasan, MS Uddin2023 4th International Conference on Big Data Analytics and Practices (IBDAP …, 2023\n"
          ]
        }
      ]
    },
    {
      "cell_type": "code",
      "source": [
        "# Import the necessary libraries\n",
        "import requests\n",
        "from bs4 import BeautifulSoup\n",
        "import time\n",
        "\n",
        "# URL of the page you want to scrape\n",
        "url = \"https://scholar.google.com/citations?view_op=list_works&hl=en&hl=en&user=QqOSakMAAAAJ\"\n",
        "\n",
        "# Set the user-agent header to mimic a web browser\n",
        "headers = {\n",
        "    'User-Agent': 'Mozilla/5.0 (Windows NT 10.0; Win64; x64) AppleWebKit/537.36 (KHTML, like Gecko) Chrome/58.0.3029.110 Safari/537.36'\n",
        "}\n",
        "\n",
        "# Function to fetch and parse the page\n",
        "def fetch_and_parse_url(url):\n",
        "    # Add a delay of 5 seconds before making the request\n",
        "    time.sleep(5)\n",
        "\n",
        "    # Send an HTTP GET request to the URL with the user-agent header\n",
        "    response = requests.get(url, headers=headers)\n",
        "\n",
        "    # Check if the request was successful (status code 200)\n",
        "    if response.status_code == 200:\n",
        "        # Parse the HTML content of the page\n",
        "        soup = BeautifulSoup(response.text, \"html.parser\")\n",
        "        return soup\n",
        "    else:\n",
        "        print(\"Failed to retrieve the page. Status code:\", response.status_code)\n",
        "        return None\n",
        "\n",
        "# Fetch and parse the URL\n",
        "soup = fetch_and_parse_url(url)\n",
        "\n",
        "if soup:\n",
        "    # Find and extract all the publication items\n",
        "    publication_items = soup.find_all(\"tr\", {\"class\": \"gsc_a_tr\"})\n",
        "\n",
        "    # Count the number of publications\n",
        "    num_publications = len(publication_items)\n",
        "\n",
        "    print(\"Number of Publications:\", num_publications)\n",
        "else:\n",
        "    print(\"Failed to retrieve the page.\")\n"
      ],
      "metadata": {
        "colab": {
          "base_uri": "https://localhost:8080/"
        },
        "id": "ZAKwSAo2zHkL",
        "outputId": "6be6ccc6-7b8d-4d92-f4ac-3b802abc63c0"
      },
      "execution_count": 7,
      "outputs": [
        {
          "output_type": "stream",
          "name": "stdout",
          "text": [
            "Number of Publications: 7\n"
          ]
        }
      ]
    },
    {
      "cell_type": "code",
      "source": [
        "!!pip install pyppeteer2\n"
      ],
      "metadata": {
        "colab": {
          "base_uri": "https://localhost:8080/",
          "height": 617
        },
        "id": "2Vu-8Z8H0tM5",
        "outputId": "382158d4-ce68-4a75-ced2-7efd5b394541"
      },
      "execution_count": 11,
      "outputs": [
        {
          "output_type": "display_data",
          "data": {
            "application/vnd.colab-display-data+json": {
              "pip_warning": {
                "packages": [
                  "urllib3"
                ]
              }
            }
          },
          "metadata": {}
        },
        {
          "output_type": "execute_result",
          "data": {
            "text/plain": [
              "['Collecting pyppeteer2',\n",
              " '  Downloading pyppeteer2-0.2.2-py3-none-any.whl (161 kB)',\n",
              " '\\x1b[?25l     \\x1b[90m━━━━━━━━━━━━━━━━━━━━━━━━━━━━━━━━━━━━━━━━\\x1b[0m \\x1b[32m0.0/161.5 kB\\x1b[0m \\x1b[31m?\\x1b[0m eta \\x1b[36m-:--:--\\x1b[0m',\n",
              " '\\x1b[2K     \\x1b[91m━━━━━━━━━━━━━━━━━━━━━━━━━━━\\x1b[0m\\x1b[91m╸\\x1b[0m\\x1b[90m━━━━━━━━━━━━\\x1b[0m \\x1b[32m112.6/161.5 kB\\x1b[0m \\x1b[31m3.3 MB/s\\x1b[0m eta \\x1b[36m0:00:01\\x1b[0m',\n",
              " '\\x1b[2K     \\x1b[90m━━━━━━━━━━━━━━━━━━━━━━━━━━━━━━━━━━━━━━━━\\x1b[0m \\x1b[32m161.5/161.5 kB\\x1b[0m \\x1b[31m3.6 MB/s\\x1b[0m eta \\x1b[36m0:00:00\\x1b[0m',\n",
              " '\\x1b[?25hRequirement already satisfied: appdirs<2.0.0,>=1.4.3 in /usr/local/lib/python3.10/dist-packages (from pyppeteer2) (1.4.4)',\n",
              " 'Collecting pyee<8.0.0,>=7.0.1 (from pyppeteer2)',\n",
              " '  Downloading pyee-7.0.4-py2.py3-none-any.whl (12 kB)',\n",
              " 'Requirement already satisfied: tqdm<5.0.0,>=4.42.1 in /usr/local/lib/python3.10/dist-packages (from pyppeteer2) (4.66.1)',\n",
              " 'Collecting urllib3<2.0.0,>=1.25.8 (from pyppeteer2)',\n",
              " '  Downloading urllib3-1.26.18-py2.py3-none-any.whl (143 kB)',\n",
              " '\\x1b[?25l     \\x1b[90m━━━━━━━━━━━━━━━━━━━━━━━━━━━━━━━━━━━━━━━━\\x1b[0m \\x1b[32m0.0/143.8 kB\\x1b[0m \\x1b[31m?\\x1b[0m eta \\x1b[36m-:--:--\\x1b[0m',\n",
              " '\\x1b[2K     \\x1b[90m━━━━━━━━━━━━━━━━━━━━━━━━━━━━━━━━━━━━━━━━\\x1b[0m \\x1b[32m143.8/143.8 kB\\x1b[0m \\x1b[31m16.0 MB/s\\x1b[0m eta \\x1b[36m0:00:00\\x1b[0m',\n",
              " '\\x1b[?25hCollecting websockets<9.0,>=8.1 (from pyppeteer2)',\n",
              " '  Downloading websockets-8.1.tar.gz (58 kB)',\n",
              " '\\x1b[?25l     \\x1b[90m━━━━━━━━━━━━━━━━━━━━━━━━━━━━━━━━━━━━━━━━\\x1b[0m \\x1b[32m0.0/58.9 kB\\x1b[0m \\x1b[31m?\\x1b[0m eta \\x1b[36m-:--:--\\x1b[0m',\n",
              " '\\x1b[2K     \\x1b[90m━━━━━━━━━━━━━━━━━━━━━━━━━━━━━━━━━━━━━━━━\\x1b[0m \\x1b[32m58.9/58.9 kB\\x1b[0m \\x1b[31m6.0 MB/s\\x1b[0m eta \\x1b[36m0:00:00\\x1b[0m',\n",
              " '\\x1b[?25h  Preparing metadata (setup.py) ... \\x1b[?25l\\x1b[?25hdone',\n",
              " 'Building wheels for collected packages: websockets',\n",
              " '  Building wheel for websockets (setup.py) ... \\x1b[?25l\\x1b[?25hdone',\n",
              " '  Created wheel for websockets: filename=websockets-8.1-cp310-cp310-linux_x86_64.whl size=73427 sha256=095dd912531ddf87f2094807922154955c4f7bbad4c645bb59b033559e606d08',\n",
              " '  Stored in directory: /root/.cache/pip/wheels/98/3f/c7/9993dad06631d258fb8a01677090029dbdbd884a6199c31483',\n",
              " 'Successfully built websockets',\n",
              " 'Installing collected packages: pyee, websockets, urllib3, pyppeteer2',\n",
              " '  Attempting uninstall: urllib3',\n",
              " '    Found existing installation: urllib3 2.0.7',\n",
              " '    Uninstalling urllib3-2.0.7:',\n",
              " '      Successfully uninstalled urllib3-2.0.7',\n",
              " 'Successfully installed pyee-7.0.4 pyppeteer2-0.2.2 urllib3-1.26.18 websockets-8.1']"
            ]
          },
          "metadata": {},
          "execution_count": 11
        }
      ]
    },
    {
      "cell_type": "code",
      "source": [
        "!pip install beautifulsoup4"
      ],
      "metadata": {
        "colab": {
          "base_uri": "https://localhost:8080/"
        },
        "id": "4cR4Qmuz1QPu",
        "outputId": "e55df544-fbde-4444-bf0b-ca60dca604be"
      },
      "execution_count": 14,
      "outputs": [
        {
          "output_type": "stream",
          "name": "stdout",
          "text": [
            "Requirement already satisfied: beautifulsoup4 in /usr/local/lib/python3.10/dist-packages (4.11.2)\n",
            "Requirement already satisfied: soupsieve>1.2 in /usr/local/lib/python3.10/dist-packages (from beautifulsoup4) (2.5)\n"
          ]
        }
      ]
    },
    {
      "cell_type": "code",
      "source": [
        "!pip install requests"
      ],
      "metadata": {
        "colab": {
          "base_uri": "https://localhost:8080/"
        },
        "id": "LzVzhH7-1SHn",
        "outputId": "edfe693e-6bbe-4d58-eb53-bdcdc73a8630"
      },
      "execution_count": 15,
      "outputs": [
        {
          "output_type": "stream",
          "name": "stdout",
          "text": [
            "Requirement already satisfied: requests in /usr/local/lib/python3.10/dist-packages (2.31.0)\n",
            "Requirement already satisfied: charset-normalizer<4,>=2 in /usr/local/lib/python3.10/dist-packages (from requests) (3.3.0)\n",
            "Requirement already satisfied: idna<4,>=2.5 in /usr/local/lib/python3.10/dist-packages (from requests) (3.4)\n",
            "Requirement already satisfied: urllib3<3,>=1.21.1 in /usr/local/lib/python3.10/dist-packages (from requests) (1.26.18)\n",
            "Requirement already satisfied: certifi>=2017.4.17 in /usr/local/lib/python3.10/dist-packages (from requests) (2023.7.22)\n"
          ]
        }
      ]
    },
    {
      "cell_type": "code",
      "source": [
        "import requests\n",
        "from bs4 import BeautifulSoup\n",
        "\n",
        "# Replace 'your_url_here' with the actual URL\n",
        "url = 'https://www.semanticscholar.org/author/Nishat-Vasker/2189465972'\n",
        "\n",
        "# Send an HTTP GET request to the URL\n",
        "response = requests.get(url)\n",
        "\n",
        "# Check if the request was successful (status code 200)\n",
        "if response.status_code == 200:\n",
        "    # Parse the HTML content of the page\n",
        "    soup = BeautifulSoup(response.content, 'html.parser')\n",
        "\n",
        "    # Use BeautifulSoup to find and count the publications\n",
        "    # You'll need to inspect the HTML structure of the page to find the right elements to target\n",
        "    # and use BeautifulSoup to extract the publication information\n",
        "\n",
        "    # For example, if the publication information is contained in a specific HTML element like a <div> with a certain class:\n",
        "    publication_elements = soup.find_all('div', class_='publication')\n",
        "\n",
        "    # Count the number of publications\n",
        "    num_publications = len(publication_elements)\n",
        "\n",
        "    print(f'Total number of publications: {num_publications}')\n",
        "else:\n",
        "    print('Failed to retrieve the page. Status code:', response.status_code)\n"
      ],
      "metadata": {
        "colab": {
          "base_uri": "https://localhost:8080/"
        },
        "id": "kp7wlt070zUB",
        "outputId": "d106e2fc-0eeb-44a9-c673-b19ee1d725c0"
      },
      "execution_count": 18,
      "outputs": [
        {
          "output_type": "stream",
          "name": "stdout",
          "text": [
            "Failed to retrieve the page. Status code: 202\n"
          ]
        }
      ]
    },
    {
      "cell_type": "code",
      "source": [
        "import requests\n",
        "from bs4 import BeautifulSoup\n",
        "\n",
        "# URL of the webpage to scrape\n",
        "url = \"https://www.semanticscholar.org/author/Nishat-Vasker/2189465972\"\n",
        "\n",
        "# Make a request to the URL\n",
        "r = requests.get(url)\n",
        "\n",
        "# Parse the HTML content of the page with BeautifulSoup\n",
        "soup = BeautifulSoup(r.content, 'html.parser')\n",
        "\n",
        "# Extract the desired data\n",
        "data = []\n",
        "for publication in soup.find_all('div', class_='publication-container'):\n",
        "    title = publication.find('h4').text.strip()\n",
        "    authors = publication.find('span', class_='authors').text.strip()\n",
        "    date = publication.find('span', class_='date').text.strip()\n",
        "    journal = publication.find('span', class_='journal').text.strip()\n",
        "    abstract = publication.find('p', class_='abstract').text.strip()\n",
        "\n",
        "    data.append({\n",
        "        'title': title,\n",
        "        'authors': authors,\n",
        "        'date': date,\n",
        "        'journal': journal,\n",
        "        'abstract': abstract\n",
        "    })\n",
        "\n",
        "# Print the extracted data\n",
        "for publication in data:\n",
        "    print(\"Title:\", publication['title'])\n",
        "    print(\"Authors:\", publication['authors'])\n",
        "    print(\"Date:\", publication['date'])\n",
        "    print(\"Journal:\", publication['journal'])\n",
        "    print(\"Abstract:\", publication['abstract'])\n",
        "    print(\"-----------\")"
      ],
      "metadata": {
        "id": "GbTiwrBA25iF"
      },
      "execution_count": 22,
      "outputs": []
    },
    {
      "cell_type": "code",
      "source": [
        "import requests\n",
        "\n",
        "author_id = \"2189465972\"  # Note: I corrected the author_id to match the URL you provided\n",
        "url = f\"https://api.semanticscholar.org/graph/v1/author/{2189465972}?fields=papers.authors\"\n",
        "\n",
        "response = requests.get(url)\n",
        "\n",
        "if response.status_code == 200:\n",
        "    data = response.json()\n",
        "    author_publications = data.get(\"papers\", [])\n",
        "\n",
        "    # Initialize a counter\n",
        "    publication_count = 0\n",
        "\n",
        "    for publication in author_publications:\n",
        "        publication_count += 1  # Increment the counter for each publication\n",
        "        print(f\"Title: {publication.get('title')}\")\n",
        "        print(f\"Year: {publication.get('year')}\")\n",
        "        print(f\"Authors: {', '.join([author['name'] for author in publication.get('authors', [])])}\")\n",
        "        print(\"\\n\")\n",
        "\n",
        "    # Print the total number of publications\n",
        "    print(f\"Total Publications: {publication_count}\")\n",
        "else:\n",
        "    print(f\"Failed to fetch data. Status code: {response.status_code}\")\n"
      ],
      "metadata": {
        "colab": {
          "base_uri": "https://localhost:8080/"
        },
        "id": "wtr3-mHr25WP",
        "outputId": "9863f22c-64be-4ac6-80c2-a9cd4a580d48"
      },
      "execution_count": 28,
      "outputs": [
        {
          "output_type": "stream",
          "name": "stdout",
          "text": [
            "Title: None\n",
            "Year: None\n",
            "Authors: Akibul Haque, M. Hasan, Sumaya Akter Suma, Nishat Vasker, Md. Mahir Ashhab, M. Ali, Mohammad Rifat Ahmmad Rashid, M. S. Hossain Khan\n",
            "\n",
            "\n",
            "Title: None\n",
            "Year: None\n",
            "Authors: Sumaya Akter Suma, Akibul Haque, Nishat Vasker, M. Hasan, J. A. Ovi, Maheen Islam\n",
            "\n",
            "\n",
            "Title: None\n",
            "Year: None\n",
            "Authors: Nishat Vasker, Syed Nawazish Haider, M. Hasan, Mohammad Salah Uddin\n",
            "\n",
            "\n",
            "Title: None\n",
            "Year: None\n",
            "Authors: Nishat Vasker, M. Hasan\n",
            "\n",
            "\n",
            "Title: None\n",
            "Year: None\n",
            "Authors: Nishat Vasker, Ab. Rahim Ahmed Sowrov, M. Hasan, M. Ali, Mohammad Rifat Ahmmad Rashid, Mohammad Manzurul Islam\n",
            "\n",
            "\n",
            "Title: None\n",
            "Year: None\n",
            "Authors: Maherun Nessa Isty, Nishat Vasker, Fahmida Anjum, Warda Ruhin Parsub, Amit Roy, Akibul Haque, M. Hasan, Maheen Islam\n",
            "\n",
            "\n",
            "Title: None\n",
            "Year: None\n",
            "Authors: Mohammad Salah Uddin, Shathi Islam, Nishat Vasker\n",
            "\n",
            "\n",
            "Total Publications: 7\n"
          ]
        }
      ]
    },
    {
      "cell_type": "code",
      "source": [
        "import requests\n",
        "\n",
        "author_id = \"2189465972\"  # Note: I corrected the author_id to match the URL you provided\n",
        "url = f\"https://api.semanticscholar.org/graph/v1/author/{2118720507}?fields=papers.authors\"\n",
        "\n",
        "response = requests.get(url)\n",
        "\n",
        "if response.status_code == 200:\n",
        "    data = response.json()\n",
        "    author_publications = data.get(\"papers\", [])\n",
        "\n",
        "    # Initialize a counter\n",
        "    publication_count = 0\n",
        "\n",
        "    for publication in author_publications:\n",
        "        publication_count += 1  # Increment the counter for each publication\n",
        "        print(f\"Title: {publication.get('title')}\")\n",
        "        print(f\"Year: {publication.get('year')}\")\n",
        "        print(f\"Authors: {', '.join([author['name'] for author in publication.get('authors', [])])}\")\n",
        "        print(\"\\n\")\n",
        "\n",
        "    # Print the total number of publications\n",
        "    print(f\"Total Publications: {publication_count}\")\n",
        "else:\n",
        "    print(f\"Failed to fetch data. Status code: {response.status_code}\")\n"
      ],
      "metadata": {
        "colab": {
          "base_uri": "https://localhost:8080/"
        },
        "id": "kXf2YX1gDu6y",
        "outputId": "9f229606-27e0-408a-ddcc-51bf2329fb35"
      },
      "execution_count": 29,
      "outputs": [
        {
          "output_type": "stream",
          "name": "stdout",
          "text": [
            "Title: None\n",
            "Year: None\n",
            "Authors: Md Mahir Tagwar, Md Asfakul Islam, Md Rokibul Hasan, Faisal Azhar, A. M. Feroz, Ehses Shishir, Habibur Rahman, M. Hasan, T. Jabid, MdSawkat Ali, Maheen Islam\n",
            "\n",
            "\n",
            "Title: None\n",
            "Year: None\n",
            "Authors: Monjurul Islam Sumon, Md Tanvir Chowdhury, Syed Salman Hayat, Mahir Tagwar, Habibur Rahman, Md. Sabbir Hossain, M. Hasan, T. Jabid, Maheen Islam\n",
            "\n",
            "\n",
            "Title: None\n",
            "Year: None\n",
            "Authors: Mohammad Huzaifa, Fabiha Bushra Fabin, Nazia Tabassum Natasha, Imran Fakir, Sabiha Afsana Falguni, M. Hasan, Mohammad Rifat Ahmmad Rashid\n",
            "\n",
            "\n",
            "Title: None\n",
            "Year: None\n",
            "Authors: Md. Shafayat Hossain, Sarder Iftekhar Ahmed, Md. Nadim, Md. Mizanur Rahman, Maria Mehjabin Shenjuti, M. Hasan, T. Jabid, Maheen Islam, M. Ali\n",
            "\n",
            "\n",
            "Title: None\n",
            "Year: None\n",
            "Authors: Md. Sabbir Hossain, Dipayan Ghose, All Masror Partho, Minhaz Ahmed, Md. Tanvir Chowdhury, M. Hasan, M. Ali, T. Jabid, Maheen Islam\n",
            "\n",
            "\n",
            "Title: None\n",
            "Year: None\n",
            "Authors: Md. Tanvir Chowdhury, Noshin Samiha Prova, Md.Akram Uddin, Diba Akter Supti, Md. Sabbir Hossain, M. Hasan, M. Ali, T. Jabid, Maheen Islam\n",
            "\n",
            "\n",
            "Title: None\n",
            "Year: None\n",
            "Authors: Akibul Haque, M. Hasan, Sumaya Akter Suma, Nishat Vasker, Md. Mahir Ashhab, M. Ali, Mohammad Rifat Ahmmad Rashid, M. S. Hossain Khan\n",
            "\n",
            "\n",
            "Title: None\n",
            "Year: None\n",
            "Authors: Sumaya Akter Suma, Akibul Haque, Nishat Vasker, M. Hasan, J. A. Ovi, Maheen Islam\n",
            "\n",
            "\n",
            "Title: None\n",
            "Year: None\n",
            "Authors: Habibur Rahman, Md. Munam Kazi, Md. Samiul Islam, Jannatul Maoya, Md. Monjurul Arif, Mahir Tagwar, M. Hasan, M. Ali, T. Jabid, Maheen Islam\n",
            "\n",
            "\n",
            "Title: None\n",
            "Year: None\n",
            "Authors: Nishat Vasker, Syed Nawazish Haider, M. Hasan, Mohammad Salah Uddin\n",
            "\n",
            "\n",
            "Title: None\n",
            "Year: None\n",
            "Authors: T. Jabid, Nazmul Hasan Rizvy, Fateza Tuj Zohora Mow, Tanjina Zaman Shosy, M. Ali, Maheen Islam, S. Hassan, M. Hasan\n",
            "\n",
            "\n",
            "Title: None\n",
            "Year: None\n",
            "Authors: Nishat Vasker, M. Hasan\n",
            "\n",
            "\n",
            "Title: None\n",
            "Year: None\n",
            "Authors: Kazi Mostaq Hridoy, Saiful Islam Akash, Fahmida Afrose Dipti, M. Hasan, J. A. Ovi, Md Al-Imran, Sarwar Jahan\n",
            "\n",
            "\n",
            "Title: None\n",
            "Year: None\n",
            "Authors: Kanij Fatema Arpa, Tanni Mittra, Tasnim Ferdous, Nusrat Jahan, Riffat Ara Khan Tayna, M. Hasan, Mohammad Rifat Ahmmad Rashid, M. Ali\n",
            "\n",
            "\n",
            "Title: None\n",
            "Year: None\n",
            "Authors: Nishat Vasker, Ab. Rahim Ahmed Sowrov, M. Hasan, M. Ali, Mohammad Rifat Ahmmad Rashid, Mohammad Manzurul Islam\n",
            "\n",
            "\n",
            "Title: None\n",
            "Year: None\n",
            "Authors: M. Hasan, Moi Hoon Yap, M. Hasan\n",
            "\n",
            "\n",
            "Title: None\n",
            "Year: None\n",
            "Authors: Maherun Nessa Isty, Nishat Vasker, Fahmida Anjum, Warda Ruhin Parsub, Amit Roy, Akibul Haque, M. Hasan, Maheen Islam\n",
            "\n",
            "\n",
            "Title: None\n",
            "Year: None\n",
            "Authors: Sarmin Sultana Snigdha, Reyad Bin Satter, Waliul Islam, Shafiur Rahman Chowdhury Tonay, M. Hasan, Maheen Islam, M. Ali, T. Jabid\n",
            "\n",
            "\n",
            "Title: None\n",
            "Year: None\n",
            "Authors: J. A. Ovi, M. E. Haque, A. Kalam, S. Jarin, M. S. Ali, M. Hasan\n",
            "\n",
            "\n",
            "Title: None\n",
            "Year: None\n",
            "Authors: A. W. Reza, M. Hasan, Nazla Nowrin, Mir Moynuddin Ahmed Shibly\n",
            "\n",
            "\n",
            "Title: None\n",
            "Year: None\n",
            "Authors: M. Ashikuzzaman, W. Akram, Md. Mydul Islam Anik, M. Hasan, Md. Sawkat Ali, T. Jabid\n",
            "\n",
            "\n",
            "Title: None\n",
            "Year: None\n",
            "Authors: M. Hasan, Surajit Das Barman, Samia Islam, A. W. Reza\n",
            "\n",
            "\n",
            "Title: None\n",
            "Year: None\n",
            "Authors: A. Kalam, Md. Enamul Haque, Mohammad Jashem, M. Hasan, Muhammad Ibrahim, T. Jabid\n",
            "\n",
            "\n",
            "Title: None\n",
            "Year: None\n",
            "Authors: M. Hasan, F. A. Lubna, S. A. Chowdhury, Nusrat Jarin Haque, Towsif Ahmed Omi\n",
            "\n",
            "\n",
            "Total Publications: 24\n"
          ]
        }
      ]
    },
    {
      "cell_type": "code",
      "source": [
        "import requests\n",
        "\n",
        "# Define a list of researcher IDs\n",
        "researcher_ids = [\"2255351070\", \"2118720507\", \"2189465972\"]\n",
        "\n",
        "# Function to fetch publication data for a researcher\n",
        "def fetch_publication_count(author_id):\n",
        "    url = f\"https://api.semanticscholar.org/graph/v1/author/{author_id}?fields=papers.authors\"\n",
        "    response = requests.get(url)\n",
        "\n",
        "    if response.status_code == 200:\n",
        "        data = response.json()\n",
        "        author_publications = data.get(\"papers\", [])\n",
        "        publication_count = len(author_publications)\n",
        "        return publication_count\n",
        "    else:\n",
        "        return 0\n",
        "\n",
        "# Fetch and rank publication counts for each researcher\n",
        "researcher_rankings = []\n",
        "\n",
        "for researcher_id in researcher_ids:\n",
        "    publication_count = fetch_publication_count(researcher_id)\n",
        "    researcher_rankings.append({\n",
        "        \"researcher_id\": researcher_id,\n",
        "        \"publication_count\": publication_count\n",
        "    })\n",
        "\n",
        "# Sort researchers by publication count in descending order\n",
        "researcher_rankings.sort(key=lambda x: x[\"publication_count\"], reverse=True)\n",
        "\n",
        "# Print the rankings\n",
        "for index, researcher in enumerate(researcher_rankings):\n",
        "    print(f\"Rank {index+1}: Researcher {researcher['researcher_id']} - Publications: {researcher['publication_count']}\")\n"
      ],
      "metadata": {
        "colab": {
          "base_uri": "https://localhost:8080/"
        },
        "id": "Pw8Kd0ykFm_I",
        "outputId": "462ebca6-a990-4a20-a1a2-d538eb05075d"
      },
      "execution_count": 30,
      "outputs": [
        {
          "output_type": "stream",
          "name": "stdout",
          "text": [
            "Rank 1: Researcher 2118720507 - Publications: 24\n",
            "Rank 2: Researcher 2189465972 - Publications: 7\n",
            "Rank 3: Researcher 2255351070 - Publications: 1\n"
          ]
        }
      ]
    },
    {
      "cell_type": "code",
      "source": [
        "import requests\n",
        "\n",
        "# Define a list of researcher IDs with names\n",
        "researchers = [\n",
        "    {\"id\": \"2054989\", \"name\": \"Mohammad Salah Uddin\"},\n",
        "    {\"id\": \"2118720507\", \"name\": \"Mahamudul Hasan\"},\n",
        "    {\"id\": \"2110903783\", \"name\": \"Showkot Ali\"},\n",
        "    {\"id\": \"2189465972\", \"name\": \"Nishat vasker\"}\n",
        "]\n",
        "\n",
        "\n",
        "# Function to fetch publication data for a researcher\n",
        "def fetch_publication_count(author_id):\n",
        "    url = f\"https://api.semanticscholar.org/graph/v1/author/{author_id}?fields=papers.authors\"\n",
        "    response = requests.get(url)\n",
        "\n",
        "    if response.status_code == 200:\n",
        "        data = response.json()\n",
        "        author_publications = data.get(\"papers\", [])\n",
        "        publication_count = len(author_publications)\n",
        "        return publication_count\n",
        "    else:\n",
        "        return 0\n",
        "\n",
        "# Fetch and rank publication counts for each researcher\n",
        "researcher_rankings = []\n",
        "\n",
        "for researcher in researchers:\n",
        "    researcher_id = researcher[\"id\"]\n",
        "    publication_count = fetch_publication_count(researcher_id)\n",
        "    researcher_rankings.append({\n",
        "        \"researcher_id\": researcher_id,\n",
        "        \"researcher_name\": researcher[\"name\"],\n",
        "        \"publication_count\": publication_count\n",
        "    })\n",
        "\n",
        "# Sort researchers by publication count in descending order\n",
        "researcher_rankings.sort(key=lambda x: x[\"publication_count\"], reverse=True)\n",
        "\n",
        "# Print the rankings\n",
        "for index, researcher in enumerate(researcher_rankings):\n",
        "    print(f\"Rank {index+1}: {researcher['researcher_name']} ({researcher['researcher_id']}) - Publications: {researcher['publication_count']}\")\n"
      ],
      "metadata": {
        "colab": {
          "base_uri": "https://localhost:8080/"
        },
        "id": "QgyTC40WFxA_",
        "outputId": "c4e64c6d-84e3-4087-aae7-479cbd29ff91"
      },
      "execution_count": 34,
      "outputs": [
        {
          "output_type": "stream",
          "name": "stdout",
          "text": [
            "Rank 1: Mahamudul Hasan (2118720507) - Publications: 24\n",
            "Rank 2: Mohammad Salah Uddin (2054989) - Publications: 22\n",
            "Rank 3: Showkot Ali (2110903783) - Publications: 19\n",
            "Rank 4: Nishat vasker (2189465972) - Publications: 7\n"
          ]
        }
      ]
    },
    {
      "cell_type": "code",
      "source": [
        "!pip install matplotlib\n"
      ],
      "metadata": {
        "colab": {
          "base_uri": "https://localhost:8080/"
        },
        "id": "oK8eHzO_G1nq",
        "outputId": "7f8101ea-0089-43b0-b391-ee0a739ae96a"
      },
      "execution_count": 36,
      "outputs": [
        {
          "output_type": "stream",
          "name": "stdout",
          "text": [
            "Requirement already satisfied: matplotlib in /usr/local/lib/python3.10/dist-packages (3.7.1)\n",
            "Requirement already satisfied: contourpy>=1.0.1 in /usr/local/lib/python3.10/dist-packages (from matplotlib) (1.1.1)\n",
            "Requirement already satisfied: cycler>=0.10 in /usr/local/lib/python3.10/dist-packages (from matplotlib) (0.12.1)\n",
            "Requirement already satisfied: fonttools>=4.22.0 in /usr/local/lib/python3.10/dist-packages (from matplotlib) (4.43.1)\n",
            "Requirement already satisfied: kiwisolver>=1.0.1 in /usr/local/lib/python3.10/dist-packages (from matplotlib) (1.4.5)\n",
            "Requirement already satisfied: numpy>=1.20 in /usr/local/lib/python3.10/dist-packages (from matplotlib) (1.23.5)\n",
            "Requirement already satisfied: packaging>=20.0 in /usr/local/lib/python3.10/dist-packages (from matplotlib) (23.2)\n",
            "Requirement already satisfied: pillow>=6.2.0 in /usr/local/lib/python3.10/dist-packages (from matplotlib) (9.4.0)\n",
            "Requirement already satisfied: pyparsing>=2.3.1 in /usr/local/lib/python3.10/dist-packages (from matplotlib) (3.1.1)\n",
            "Requirement already satisfied: python-dateutil>=2.7 in /usr/local/lib/python3.10/dist-packages (from matplotlib) (2.8.2)\n",
            "Requirement already satisfied: six>=1.5 in /usr/local/lib/python3.10/dist-packages (from python-dateutil>=2.7->matplotlib) (1.16.0)\n"
          ]
        }
      ]
    },
    {
      "cell_type": "code",
      "source": [
        "import requests\n",
        "import matplotlib.pyplot as plt\n",
        "\n",
        "# Define a list of researcher IDs with names\n",
        "researchers = [\n",
        "    {\"id\": \"2054989\", \"name\": \"Mohammad Salah Uddin (FACULTY)\"},\n",
        "    {\"id\": \"2118720507\", \"name\": \"Mahamudul Hasan  (FACULTY)\"},\n",
        "    {\"id\": \"2110903783\", \"name\": \"Showkot Ali  (FACULTY)\"},\n",
        "    {\"id\": \"2189465972\", \"name\": \"Nishat Vasker  (student)\"},\n",
        "    {\"id\": \"1393341930\", \"name\": \"Mohammad Rifat Ahmmad Rashid (FACULTY)\"},\n",
        "    {\"id\": \"2255349963\", \"name\": \"Akibu Haque  (student)\"},\n",
        "    {\"id\": \"2157471945\", \"name\": \"Maheen Islam  (FACULTY)\"},\n",
        "]\n",
        "\n",
        "# Define colors for the bars\n",
        "colors = ['skyblue', 'lightcoral', 'lightgreen', 'lightsalmon']\n",
        "\n",
        "# Function to fetch publication data for a researcher\n",
        "def fetch_publication_count(author_id):\n",
        "    url = f\"https://api.semanticscholar.org/graph/v1/author/{author_id}?fields=papers.authors\"\n",
        "    response = requests.get(url)\n",
        "\n",
        "    if response.status_code == 200:\n",
        "        data = response.json()\n",
        "        author_publications = data.get(\"papers\", [])\n",
        "        publication_count = len(author_publications)\n",
        "        return publication_count\n",
        "    else:\n",
        "        return 0\n",
        "\n",
        "# Fetch and rank publication counts for each researcher\n",
        "researcher_rankings = []\n",
        "\n",
        "for researcher in researchers:\n",
        "    researcher_id = researcher[\"id\"]\n",
        "    publication_count = fetch_publication_count(researcher_id)\n",
        "    researcher_rankings.append({\n",
        "        \"researcher_id\": researcher_id,\n",
        "        \"researcher_name\": researcher[\"name\"],\n",
        "        \"publication_count\": publication_count\n",
        "    })\n",
        "\n",
        "# Sort researchers by publication count in descending order\n",
        "researcher_rankings.sort(key=lambda x: x[\"publication_count\"], reverse=True)\n",
        "\n",
        "# Extract researcher names and publication counts for the chart\n",
        "researcher_names = [researcher[\"researcher_name\"] for researcher in researcher_rankings]\n",
        "publication_counts = [researcher[\"publication_count\"] for researcher in researcher_rankings]\n",
        "\n",
        "# Create a colorful bar chart\n",
        "plt.figure(figsize=(10, 6))\n",
        "plt.barh(researcher_names, publication_counts, color=colors)\n",
        "plt.xlabel('Publication Count')\n",
        "plt.title('Researcher Publication Competion On EWU')\n",
        "plt.gca().invert_yaxis()  # Reverse the order to show the highest count at the top\n",
        "\n",
        "# Display the chart\n",
        "plt.show()\n"
      ],
      "metadata": {
        "colab": {
          "base_uri": "https://localhost:8080/",
          "height": 564
        },
        "id": "rkciN9EEHtHV",
        "outputId": "898543a0-8c4c-49a9-a245-982b94bfa068"
      },
      "execution_count": 41,
      "outputs": [
        {
          "output_type": "display_data",
          "data": {
            "text/plain": [
              "<Figure size 1000x600 with 1 Axes>"
            ],
            "image/png": "[encoded data removed]"
          },
          "metadata": {}
        }
      ]
    },
    {
      "cell_type": "code",
      "source": [
        "!pip install gspread requests matplotlib\n"
      ],
      "metadata": {
        "colab": {
          "base_uri": "https://localhost:8080/"
        },
        "id": "2GvuYrbDHs7O",
        "outputId": "8323e841-8be5-4e5d-d535-6df3263051b9"
      },
      "execution_count": 42,
      "outputs": [
        {
          "output_type": "stream",
          "name": "stdout",
          "text": [
            "Requirement already satisfied: gspread in /usr/local/lib/python3.10/dist-packages (3.4.2)\n",
            "Requirement already satisfied: requests in /usr/local/lib/python3.10/dist-packages (2.31.0)\n",
            "Requirement already satisfied: matplotlib in /usr/local/lib/python3.10/dist-packages (3.7.1)\n",
            "Requirement already satisfied: google-auth in /usr/local/lib/python3.10/dist-packages (from gspread) (2.17.3)\n",
            "Requirement already satisfied: charset-normalizer<4,>=2 in /usr/local/lib/python3.10/dist-packages (from requests) (3.3.0)\n",
            "Requirement already satisfied: idna<4,>=2.5 in /usr/local/lib/python3.10/dist-packages (from requests) (3.4)\n",
            "Requirement already satisfied: urllib3<3,>=1.21.1 in /usr/local/lib/python3.10/dist-packages (from requests) (1.26.18)\n",
            "Requirement already satisfied: certifi>=2017.4.17 in /usr/local/lib/python3.10/dist-packages (from requests) (2023.7.22)\n",
            "Requirement already satisfied: contourpy>=1.0.1 in /usr/local/lib/python3.10/dist-packages (from matplotlib) (1.1.1)\n",
            "Requirement already satisfied: cycler>=0.10 in /usr/local/lib/python3.10/dist-packages (from matplotlib) (0.12.1)\n",
            "Requirement already satisfied: fonttools>=4.22.0 in /usr/local/lib/python3.10/dist-packages (from matplotlib) (4.43.1)\n",
            "Requirement already satisfied: kiwisolver>=1.0.1 in /usr/local/lib/python3.10/dist-packages (from matplotlib) (1.4.5)\n",
            "Requirement already satisfied: numpy>=1.20 in /usr/local/lib/python3.10/dist-packages (from matplotlib) (1.23.5)\n",
            "Requirement already satisfied: packaging>=20.0 in /usr/local/lib/python3.10/dist-packages (from matplotlib) (23.2)\n",
            "Requirement already satisfied: pillow>=6.2.0 in /usr/local/lib/python3.10/dist-packages (from matplotlib) (9.4.0)\n",
            "Requirement already satisfied: pyparsing>=2.3.1 in /usr/local/lib/python3.10/dist-packages (from matplotlib) (3.1.1)\n",
            "Requirement already satisfied: python-dateutil>=2.7 in /usr/local/lib/python3.10/dist-packages (from matplotlib) (2.8.2)\n",
            "Requirement already satisfied: six>=1.5 in /usr/local/lib/python3.10/dist-packages (from python-dateutil>=2.7->matplotlib) (1.16.0)\n",
            "Requirement already satisfied: cachetools<6.0,>=2.0.0 in /usr/local/lib/python3.10/dist-packages (from google-auth->gspread) (5.3.1)\n",
            "Requirement already satisfied: pyasn1-modules>=0.2.1 in /usr/local/lib/python3.10/dist-packages (from google-auth->gspread) (0.3.0)\n",
            "Requirement already satisfied: rsa<5,>=3.1.4 in /usr/local/lib/python3.10/dist-packages (from google-auth->gspread) (4.9)\n",
            "Requirement already satisfied: pyasn1<0.6.0,>=0.4.6 in /usr/local/lib/python3.10/dist-packages (from pyasn1-modules>=0.2.1->google-auth->gspread) (0.5.0)\n"
          ]
        }
      ]
    },
    {
      "cell_type": "code",
      "source": [
        "import requests\n",
        "\n",
        "# Replace 'YOUR_WEB_APP_URL' with the provided web app URL\n",
        "web_app_url = 'https://script.google.com/macros/s/AKfycbyQ3HnZNo1WpnydCo3COYDxT2y23m6dKBD1zgtK1ECNldi68SdBgrfUW00NPnXJMGsV/exec'\n",
        "\n",
        "response = requests.get(web_app_url)\n",
        "\n",
        "if response.status_code == 200:\n",
        "    data = response.json()\n",
        "    # Process the data as needed in Python\n",
        "    print(data)\n",
        "else:\n",
        "    print(f\"Failed to retrieve data from the web app. Status code: {response.status_code}\")\n"
      ],
      "metadata": {
        "colab": {
          "base_uri": "https://localhost:8080/"
        },
        "id": "-9nFl4yZPoqJ",
        "outputId": "4ea5bc89-72af-4351-f729-bea1fd8a2769"
      },
      "execution_count": 45,
      "outputs": [
        {
          "output_type": "stream",
          "name": "stdout",
          "text": [
            "[{'ID': 2054989, 'NAME': 'Mohammad Salah Uddin', 'POSITION': 'FACULTY'}, {'ID': 2118720507, 'NAME': 'Mahamudul Hasan', 'POSITION': 'FACULTY'}, {'ID': 2110903783, 'NAME': 'Showkot Ali', 'POSITION': 'FACULTY'}, {'ID': 2189465972, 'NAME': 'Nishat Vasker', 'POSITION': 'Student'}, {'ID': 1393341930, 'NAME': 'Mohammad Rifat Ahmmad Rashid', 'POSITION': 'FACULTY'}, {'ID': 2255349963, 'NAME': 'Akibu Haque', 'POSITION': 'Student'}, {'ID': 2157471945, 'NAME': 'Maheen Islam', 'POSITION': 'FACULTY'}]\n"
          ]
        }
      ]
    },
    {
      "cell_type": "code",
      "source": [
        "import requests\n",
        "\n",
        "# Define the web app URL that retrieves data from the Google Sheet\n",
        "web_app_url = 'https://script.google.com/macros/s/AKfycbyQ3HnZNo1WpnydCo3COYDxT2y23m6dKBD1zgtK1ECNldi68SdBgrfUW00NPnXJMGsV/exec'\n",
        "\n",
        "# Fetch data from the web app\n",
        "response = requests.get(web_app_url)\n",
        "\n",
        "if response.status_code == 200:\n",
        "    data = response.json()\n",
        "    print(data)  # Print the retrieved data structure\n",
        "else:\n",
        "    print(f\"Failed to retrieve data from the web app. Status code: {response.status_code}\")\n"
      ],
      "metadata": {
        "colab": {
          "base_uri": "https://localhost:8080/"
        },
        "id": "j4-Dk2rPP28M",
        "outputId": "4182951b-d83d-45ee-baf1-354d7382c4ef"
      },
      "execution_count": 47,
      "outputs": [
        {
          "output_type": "stream",
          "name": "stdout",
          "text": [
            "[{'ID': 2054989, 'NAME': 'Mohammad Salah Uddin', 'POSITION': 'FACULTY'}, {'ID': 2118720507, 'NAME': 'Mahamudul Hasan', 'POSITION': 'FACULTY'}, {'ID': 2110903783, 'NAME': 'Showkot Ali', 'POSITION': 'FACULTY'}, {'ID': 2189465972, 'NAME': 'Nishat Vasker', 'POSITION': 'Student'}, {'ID': 1393341930, 'NAME': 'Mohammad Rifat Ahmmad Rashid', 'POSITION': 'FACULTY'}, {'ID': 2255349963, 'NAME': 'Akibu Haque', 'POSITION': 'Student'}, {'ID': 2157471945, 'NAME': 'Maheen Islam', 'POSITION': 'FACULTY'}]\n"
          ]
        }
      ]
    },
    {
      "cell_type": "code",
      "source": [
        "import requests\n",
        "import matplotlib.pyplot as plt\n",
        "\n",
        "# Define the web app URL\n",
        "web_app_url = \"https://script.google.com/macros/s/AKfycbyQ3HnZNo1WpnydCo3COYDxT2y23m6dKBD1zgtK1ECNldi68SdBgrfUW00NPnXJMGsV/exec\"\n",
        "\n",
        "# Fetch data from the web app\n",
        "response = requests.get(web_app_url)\n",
        "\n",
        "if response.status_code == 200:\n",
        "    data = response.json()\n",
        "\n",
        "    # Define colors for the bars\n",
        "    colors = ['skyblue', 'lightcoral', 'lightgreen', 'lightsalmon']\n",
        "\n",
        "    # Function to fetch publication data for a researcher\n",
        "    def fetch_publication_count(author_id):\n",
        "        url = f\"https://api.semanticscholar.org/graph/v1/author/{author_id}?fields=papers.authors\"\n",
        "        response = requests.get(url)\n",
        "\n",
        "        if response.status_code == 200:\n",
        "            data = response.json()\n",
        "            author_publications = data.get(\"papers\", [])\n",
        "            publication_count = len(author_publications)\n",
        "            return publication_count\n",
        "        else:\n",
        "            return 0\n",
        "\n",
        "    # Fetch and rank publication counts for each researcher\n",
        "    researcher_rankings = []\n",
        "\n",
        "    for researcher in data:\n",
        "        researcher_id = researcher[\"ID\"]\n",
        "        researcher_name = f\"{researcher['NAME']} ({researcher['POSITION']})\"\n",
        "        publication_count = fetch_publication_count(researcher_id)\n",
        "        researcher_rankings.append({\n",
        "            \"researcher_id\": researcher_id,\n",
        "            \"researcher_name\": researcher_name,\n",
        "            \"publication_count\": publication_count\n",
        "        })\n",
        "\n",
        "    # Sort researchers by publication count in descending order\n",
        "    researcher_rankings.sort(key=lambda x: x[\"publication_count\"], reverse=True)\n",
        "\n",
        "    # Extract researcher names and publication counts for the chart\n",
        "    researcher_names = [researcher[\"researcher_name\"] for researcher in researcher_rankings]\n",
        "    publication_counts = [researcher[\"publication_count\"] for researcher in researcher_rankings]\n",
        "\n",
        "    # Create a colorful bar chart\n",
        "    plt.figure(figsize=(10, 6))\n",
        "    plt.barh(researcher_names, publication_counts, color=colors)\n",
        "    plt.xlabel('Publication Count')\n",
        "    plt.title('Researcher Publication Competition On EWU')\n",
        "    plt.gca().invert_yaxis()  # Reverse the order to show the highest count at the top\n",
        "\n",
        "    # Display the chart\n",
        "    plt.show()\n",
        "else:\n",
        "    print(f\"Failed to retrieve data from the web app. Status code: {response.status_code}\")\n"
      ],
      "metadata": {
        "colab": {
          "base_uri": "https://localhost:8080/",
          "height": 564
        },
        "id": "OGd_lJ-rQIuc",
        "outputId": "60fb73ce-70e5-454f-9ebc-b2ca06e38eab"
      },
      "execution_count": 55,
      "outputs": [
        {
          "output_type": "display_data",
          "data": {
            "text/plain": [
              "<Figure size 1000x600 with 1 Axes>"
            ],
            "image/png": "[encoded data removed]"
          },
          "metadata": {}
        }
      ]
    },
    {
      "cell_type": "code",
      "source": [
        "# Create a colorful bar chart\n",
        "plt.figure(figsize=(10, 6))\n",
        "plt.barh(researcher_names, publication_counts, color=colors)\n",
        "plt.xlabel('Publication Count')\n",
        "plt.title('Researcher Publication Competition On EWU')\n",
        "plt.gca().invert_yaxis()  # Reverse the order to show the highest count at the top\n",
        "\n",
        "# Display the publication counts as text\n",
        "for i, count in enumerate(publication_counts):\n",
        "    plt.text(count, i, str(count), ha='left', va='center')\n",
        "\n",
        "# Display the chart\n",
        "plt.show()\n"
      ],
      "metadata": {
        "colab": {
          "base_uri": "https://localhost:8080/",
          "height": 564
        },
        "id": "LASdCvgOR0_i",
        "outputId": "f0ff2a7f-2f99-4f04-86dc-e9c1ba7941ae"
      },
      "execution_count": 54,
      "outputs": [
        {
          "output_type": "display_data",
          "data": {
            "text/plain": [
              "<Figure size 1000x600 with 1 Axes>"
            ],
            "image/png": "[encoded data removed]"
          },
          "metadata": {}
        }
      ]
    },
    {
      "cell_type": "markdown",
      "source": [
        "**GOOGLE SHEET URL:** https://docs.google.com/spreadsheets/d/1h261X-fraw-A1jeWv31IhTGT-LhbPFhcKR5QWUMONXg/edit#gid=0"
      ],
      "metadata": {
        "id": "7kQqBJ5eUqqS"
      }
    },
    {
      "cell_type": "markdown",
      "source": [
        "HTML CODE"
      ],
      "metadata": {
        "id": "YgihYjJMU8Fk"
      }
    },
    {
      "cell_type": "markdown",
      "source": [
        "<!DOCTYPE html>\n",
        "<html>\n",
        "<head>\n",
        "  <title>Submit Your Information</title>\n",
        "</head>\n",
        "<body>\n",
        "  <h1>Submit Your Information</h1>\n",
        "  <form action=\"https://script.google.com/macros/s/AKfycbwjDkWbLj4K_DvAMQep0PxrCq1LfpfmJCYtaD7obqDCZDQ1vfC2pae-QH7mrgNDXqeO/exec\" method=\"get\">\n",
        "    <label for=\"id\">ID:</label>\n",
        "    <input type=\"text\" id=\"id\" name=\"id\" required><br><br>\n",
        "\n",
        "    <label for=\"name\">Name:</label>\n",
        "    <input type=\"text\" id=\"name\" name=\"name\" required><br><br>\n",
        "\n",
        "    <label for=\"position\">Position:</label>\n",
        "    <input type=\"text\" id=\"position\" name=\"position\" required><br><br>\n",
        "\n",
        "    <input type=\"submit\" value=\"Submit\">\n",
        "  </form>\n",
        "</body>\n",
        "</html>\n"
      ],
      "metadata": {
        "id": "HgsVz2UNU-Jy"
      }
    },
    {
      "cell_type": "markdown",
      "source": [
        "**ANS LINK:** https://chat.openai.com/share/5271eb29-817f-4f92-86c0-7ecad1a524e6"
      ],
      "metadata": {
        "id": "NiVEzsWhWpVJ"
      }
    },
    {
      "cell_type": "code",
      "source": [],
      "metadata": {
        "id": "B4hxlrjsUvib"
      },
      "execution_count": 54,
      "outputs": []
    }
  ]
}